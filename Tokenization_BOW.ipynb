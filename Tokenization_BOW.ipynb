{
 "cells": [
  {
   "cell_type": "code",
   "execution_count": null,
   "metadata": {},
   "outputs": [],
   "source": [
    "from hdx.utilities.easy_logging import setup_logging\n",
    "from hdx.hdx_configuration import Configuration\n",
    "from hdx.data.dataset import Dataset\n",
    "import os\n",
    "import numpy as np\n",
    "import pandas as pd\n",
    "import ast\n",
    "import sklearn"
   ]
  },
  {
   "cell_type": "code",
   "execution_count": null,
   "metadata": {},
   "outputs": [],
   "source": [
    "setup_logging()\n",
    "Configuration.create(hdx_site='prod', user_agent='A_Quick_Example', hdx_read_only=True)"
   ]
  },
  {
   "cell_type": "code",
   "execution_count": null,
   "metadata": {},
   "outputs": [],
   "source": [
    "data_by_tag = pd.read_csv('data_by_tag.csv')"
   ]
  },
  {
   "cell_type": "code",
   "execution_count": null,
   "metadata": {},
   "outputs": [],
   "source": [
    "#Converts data from string into list and cleans the dataset\n",
    "def word_extraction(dataframe,column,row):\n",
    "    ignore = ['nan']\n",
    "    words = ast.literal_eval(dataframe[column].iloc[row])\n",
    "    no_white = [i.lstrip() for i in words]\n",
    "    #divide_space = [i.split() for i in no_white]\n",
    "    cleaned_text = [w.lower() for w in no_white if w not in ignore]\n",
    "    return cleaned_text"
   ]
  },
  {
   "cell_type": "code",
   "execution_count": null,
   "metadata": {},
   "outputs": [],
   "source": [
    "word_extraction(data_by_tag,'Data',6)"
   ]
  },
  {
   "cell_type": "code",
   "execution_count": null,
   "metadata": {},
   "outputs": [],
   "source": [
    "def tokenize(dataframe):\n",
    "    words = []\n",
    "    for i in range(len(dataframe)):\n",
    "        w = word_extraction(dataframe,'Data', i)\n",
    "        words.extend(w)\n",
    "\n",
    "#tokenize(data_by_tag)\n",
    "#Having SyntaxError with \"EOL while scanning string literal\""
   ]
  },
  {
   "cell_type": "code",
   "execution_count": null,
   "metadata": {},
   "outputs": [],
   "source": [
    "def generate_comp_vocabulary(dataframe):    \n",
    "    vocab = tokenize(dataframe)\n",
    "    print(\"Word List for Document \\n{0} \\n\".format(vocab));\n",
    "    \n",
    "    for i in dataframe['Data]':\n",
    "        words = word_extraction(dataframe,'Data',i)\n",
    "        bag_vector = numpy.zeros(len(vocab))\n",
    "            for w in words:\n",
    "                for i,word in enumerate(vocab):\n",
    "                    if word == w: \n",
    "                        bag_vector[i] += 1\n",
    "                    \n",
    "        print(\"{0}\\n{1}\\n\".format(sentence,numpy.array(bag_vector)))"
   ]
  },
  {
   "cell_type": "code",
   "execution_count": null,
   "metadata": {},
   "outputs": [],
   "source": [
    "#Next Steps\n",
    "#Make BoW model scalable, as well as deal with string processing error\n",
    "#Create a classifier that uses the vectorized data from BoW model\n",
    "#This will most likely rely on logistic regression\n",
    "#sklearn has tools to make this simpler\n",
    "\n",
    "#Data Processing Refinement\n",
    "##Work on processing data to separate by datapoints within strings as well\n",
    "    #This will make it easier to work with BoW"
   ]
  },
  {
   "cell_type": "code",
   "execution_count": null,
   "metadata": {},
   "outputs": [],
   "source": []
  }
 ],
 "metadata": {
  "kernelspec": {
   "display_name": "Python 3",
   "language": "python",
   "name": "python3"
  },
  "language_info": {
   "codemirror_mode": {
    "name": "ipython",
    "version": 3
   },
   "file_extension": ".py",
   "mimetype": "text/x-python",
   "name": "python",
   "nbconvert_exporter": "python",
   "pygments_lexer": "ipython3",
   "version": "3.6.2"
  }
 },
 "nbformat": 4,
 "nbformat_minor": 2
}
